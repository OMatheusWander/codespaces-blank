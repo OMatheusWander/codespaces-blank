{
 "cells": [
  {
   "cell_type": "code",
   "execution_count": 3,
   "metadata": {},
   "outputs": [
    {
     "name": "stdout",
     "output_type": "stream",
     "text": [
      "hello\n"
     ]
    }
   ],
   "source": [
    "print(\"hello\")"
   ]
  },
  {
   "cell_type": "code",
   "execution_count": 4,
   "metadata": {},
   "outputs": [],
   "source": [
    "def newton(f,Df,x0,epsilon,max_iter):\n",
    "    xn = x0\n",
    "    for n in range(0,max_iter):\n",
    "        fxn = f(xn) # array sem biblioteca, por ex NumPy\n",
    "        if abs(fxn) < epsilon:\n",
    "            print('Found solution after',n,'iterations.')\n",
    "            return xn\n",
    "        Dfxn = Df(xn)\n",
    "        if Dfxn == 0:\n",
    "            print('Zero derivative. No solution found.')\n",
    "            return None\n",
    "        xn = xn - fxn/Dfxn\n",
    "    print('Exceeded maximum iterations. No solution found.')\n",
    "    return None"
   ]
  },
  {
   "cell_type": "code",
   "execution_count": 5,
   "metadata": {},
   "outputs": [
    {
     "name": "stdout",
     "output_type": "stream",
     "text": [
      "Found solution after 6 iterations.\n",
      "1.4655712318767877\n"
     ]
    }
   ],
   "source": [
    "p = lambda x: x**3 - x**2 - 1\n",
    "Dp = lambda x: 3*x**2 - 2*x\n",
    "approx = newton(p,Dp,1,1e-10,10)\n",
    "print(approx)"
   ]
  },
  {
   "cell_type": "code",
   "execution_count": 6,
   "metadata": {},
   "outputs": [],
   "source": [
    "import numpy as np"
   ]
  },
  {
   "cell_type": "code",
   "execution_count": 7,
   "metadata": {},
   "outputs": [
    {
     "data": {
      "text/plain": [
       "array([-0.58,  0.06])"
      ]
     },
     "execution_count": 7,
     "metadata": {},
     "output_type": "execute_result"
    }
   ],
   "source": [
    "x = np.array([.5, .5])\n",
    "G = np.array([x[0]**3 + x[1] -1, x[1]**3 -x[0] +1])\n",
    "H = np.array([[3*x[0]**2, 1], [-1, 3*x[1]**2]])\n",
    "invH = np.linalg.inv(H)\n",
    "delta = np.dot(invH,G)\n",
    "delta"
   ]
  },
  {
   "cell_type": "code",
   "execution_count": 8,
   "metadata": {},
   "outputs": [
    {
     "data": {
      "text/plain": [
       "array([1.00000000e+00, 7.77600704e-16])"
      ]
     },
     "execution_count": 8,
     "metadata": {},
     "output_type": "execute_result"
    }
   ],
   "source": [
    "x = np.array([.25, .5])\n",
    "G = np.array([x[0]**3 + x[1] -1, x[1]**3 -x[0] +1])\n",
    "H = np.array([[3*x[0]**2, 1], [-1, 3*x[1]**2]])\n",
    "invH = np.linalg.inv(H)\n",
    "delta = np.dot(invH,G)\n",
    "while np.linalg.norm(delta) > 0.0001:\n",
    " G = np.array([x[0]**3 + x[1] -1, x[1]**3 -x[0] +1])\n",
    " H = np.array([[3*x[0]**2, 1], [-1, 3*x[1]**2]])\n",
    " invH = np.linalg.inv(H)\n",
    " delta = np.dot(invH,G)\n",
    " x = x - delta\n",
    "x"
   ]
  }
 ],
 "metadata": {
  "kernelspec": {
   "display_name": "Python 3",
   "language": "python",
   "name": "python3"
  },
  "language_info": {
   "codemirror_mode": {
    "name": "ipython",
    "version": 3
   },
   "file_extension": ".py",
   "mimetype": "text/x-python",
   "name": "python",
   "nbconvert_exporter": "python",
   "pygments_lexer": "ipython3",
   "version": "3.10.8"
  },
  "orig_nbformat": 4
 },
 "nbformat": 4,
 "nbformat_minor": 2
}
